{
 "cells": [
  {
   "cell_type": "code",
   "execution_count": 1,
   "metadata": {},
   "outputs": [],
   "source": [
    "#coding=utf-8\n",
    "import sqlite3\n",
    "import requests\n",
    "from bs4 import BeautifulSoup as bs\n",
    "import math\n",
    "import pandas as pd\n",
    "import time"
   ]
  },
  {
   "cell_type": "code",
   "execution_count": 2,
   "metadata": {},
   "outputs": [],
   "source": [
    "def download(basic_url,url_id,num_retries=150):\n",
    "    url=basic_url+str(url_id)\n",
    "    try:\n",
    "        html=requests.get(url).content\n",
    "        soup=bs(html,\"html.parser\")\n",
    "    except:\n",
    "        if num_retries>0:\n",
    "            print (num_retries)\n",
    "            return download(url,'',num_retries-1)\n",
    "        else:\n",
    "            time.sleep(15)\n",
    "            return download(url,150)\n",
    "\n",
    "    return soup\n"
   ]
  },
  {
   "cell_type": "code",
   "execution_count": 3,
   "metadata": {},
   "outputs": [],
   "source": [
    "def get_id(smd_page,bd_page):\n",
    "    url_id=[]\n",
    "    for i in range(smd_page):\n",
    "        print (i+1)\n",
    "        #basic_url='https://www.drugbank.ca/drugs?approved=1&c=name&d=up&page='\n",
    "        #drug are divided into two kinds: smd——small molecule drug bd——biotech drug, they have different websites\n",
    "        basic_url='https://www.drugbank.ca/drugs?approved=1&c=name&ca=0&d=up&eu=0&experimental=1&illicit=1&investigational=1&nutraceutical=1&us=0&withdrawn=1&page='\n",
    "        soup=download(basic_url,i+1,num_retries=150)\n",
    "        for j in soup.select('.name-value strong a'):\n",
    "            url_id.append(j.attrs['href'].split('/')[-1])\n",
    "    for i in range(bd_page):\n",
    "        print (i+1)\n",
    "        #basic_url='https://www.drugbank.ca/biotech_drugs?approved=1&Protein+Based+Therapies=0&page='\n",
    "        basic_url='https://www.drugbank.ca/biotech_drugs?utf8=%E2%9C%93&approved=0&nutraceutical=0&illicit=0&investigational=0&withdrawn=0&experimental=0&us=0&ca=0&eu=0&Protein+Based+Therapies=0&Nucleic+Acid+Based+Therapies=0&Gene+Therapies=0&Vaccines=0&Allergenics=0&Cell+transplant+therapies=0&commit=Apply+Filter&page='\n",
    "        soup=download(basic_url,i+1,num_retries=150)\n",
    "        for j in soup.select('.name-value strong a'):\n",
    "            url_id.append(j.attrs['href'].split('/')[-1])\n",
    "    return url_id\n"
   ]
  },
  {
   "cell_type": "code",
   "execution_count": 4,
   "metadata": {},
   "outputs": [],
   "source": [
    "def identification(soup):\n",
    "    iden_list=[]\n",
    "    attr_list=[]\n",
    "    d={}\n",
    "    for i in soup.find('dl').findAll('dt'):\n",
    "        iden_list.append(i.text)\n",
    "    for i in soup.find('dl').findAll('dd'):\n",
    "        attr_list.append(i.text)\n",
    "    for i in range(len(attr_list)):\n",
    "        d[iden_list[i]]=attr_list[i]\n",
    "    return d"
   ]
  },
  {
   "cell_type": "code",
   "execution_count": 5,
   "metadata": {},
   "outputs": [],
   "source": [
    "#Eperisone\n",
    "def interactions(url_id,name):\n",
    "    interaction=''\n",
    "    #url='https://www.drugbank.ca/drugs/'+url_id+'/drug_interactions.json?group=approved&'\n",
    "    url = 'https://www.drugbank.ca/drugs/' + url_id + '/drug_interactions.json?&'\n",
    "    try:\n",
    "        length = requests.get(url).json()['recordsTotal']\n",
    "        for j in range(math.floor(length/100)+1):\n",
    "            new_url=url+'start='+str(100*j)+'&length=100'\n",
    "            for i in requests.get(new_url).json()['data']:\n",
    "                interaction_id=(bs(i[0],'lxml').find('a').attrs['href'].split('/')[-1]+'|')\n",
    "                name2=i[0].split('<')[1]\n",
    "                name2=name2.split('>')[-1]\n",
    "                interaction+=interaction_id\n",
    "                event.append(i[1])\n",
    "                #creat table named event in advance so that it can insert\n",
    "                cur.execute(\"insert into event(id1,name1,id2,name2,interaction)values(?,?,?,?,?)\",(url_id,name,interaction_id[:-1],name2,i[1]))\n",
    "            interaction=interaction[:-1]\n",
    "    except:\n",
    "        pass\n",
    "    return interaction,event"
   ]
  },
  {
   "cell_type": "code",
   "execution_count": 6,
   "metadata": {},
   "outputs": [],
   "source": [
    "def head_attr(soup):\n",
    "    d={}\n",
    "    try:\n",
    "        for i in soup.select('.bond-list-container'):\n",
    "            attr=''\n",
    "            for j in i.select('.bond-list strong a'):\n",
    "                attr+=(j.attrs['href'].split('/')[-1]+'|')\n",
    "            d[i.h3.text]=attr[:-1]\n",
    "    except:\n",
    "        pass\n",
    "    return d\n"
   ]
  },
  {
   "cell_type": "code",
   "execution_count": 7,
   "metadata": {},
   "outputs": [],
   "source": [
    "conn=sqlite3.connect(\"Drug.db\")\n",
    "cur=conn.cursor()\n",
    "'''\n",
    "For all the drugs, set the parameters for get_id as (460,93) (It means we have 460 pages for Small Moleculde Drugs\n",
    " and 93 pages for Biotech Drugs)\n",
    "For the approved drugs, set them as (106,57)\n",
    "'''\n",
    "#url_id=get_id(106,56)\n",
    "'''\n",
    "The url_id is a dictionary/series of the drugs ids you need to get. So you can also list the drug ids you need on a excel.\n",
    "Here is an example. We read url_id from drug_list.xlsx.\n",
    "'''\n",
    "basic_url='https://www.drugbank.ca/drugs/'\n",
    "event=[]\n",
    "drug=pd.read_excel(\"drug_list.xlsx\",header=None)\n",
    "url_id=drug.iloc[:,0]\n"
   ]
  },
  {
   "cell_type": "code",
   "execution_count": 10,
   "metadata": {
    "scrolled": true
   },
   "outputs": [
    {
     "ename": "KeyError",
     "evalue": "'DB00001'",
     "output_type": "error",
     "traceback": [
      "\u001b[1;31m---------------------------------------------------------------------------\u001b[0m",
      "\u001b[1;31mKeyError\u001b[0m                                  Traceback (most recent call last)",
      "\u001b[1;32m<ipython-input-10-c24f10baf70d>\u001b[0m in \u001b[0;36m<module>\u001b[1;34m\u001b[0m\n\u001b[0;32m     35\u001b[0m         \u001b[0mtransporter\u001b[0m\u001b[1;33m=\u001b[0m\u001b[1;34m''\u001b[0m\u001b[1;33m\u001b[0m\u001b[1;33m\u001b[0m\u001b[0m\n\u001b[0;32m     36\u001b[0m     \u001b[1;31m#Creat a table named drug first, so that you can use the insert sql code.\u001b[0m\u001b[1;33m\u001b[0m\u001b[1;33m\u001b[0m\u001b[1;33m\u001b[0m\u001b[0m\n\u001b[1;32m---> 37\u001b[1;33m     \u001b[0mcur\u001b[0m\u001b[1;33m.\u001b[0m\u001b[0mexecute\u001b[0m\u001b[1;33m(\u001b[0m\u001b[1;34m\"insert into drug(id,name,interaction,smile,target,enzyme,carrier,transporter)values(?,?,?,?,?,?,?,?)\"\u001b[0m\u001b[1;33m,\u001b[0m\u001b[1;33m(\u001b[0m\u001b[0mdrug\u001b[0m\u001b[1;33m[\u001b[0m\u001b[1;36m0\u001b[0m\u001b[1;33m]\u001b[0m\u001b[1;33m[\u001b[0m\u001b[0mi\u001b[0m\u001b[1;33m]\u001b[0m\u001b[1;33m,\u001b[0m\u001b[0mname\u001b[0m\u001b[1;33m,\u001b[0m\u001b[0minteraction\u001b[0m\u001b[1;33m,\u001b[0m\u001b[0msmile\u001b[0m\u001b[1;33m,\u001b[0m\u001b[0mtarget\u001b[0m\u001b[1;33m,\u001b[0m\u001b[0menzyme\u001b[0m\u001b[1;33m,\u001b[0m\u001b[0mcarrier\u001b[0m\u001b[1;33m,\u001b[0m\u001b[0mtransporter\u001b[0m\u001b[1;33m)\u001b[0m\u001b[1;33m)\u001b[0m\u001b[1;33m\u001b[0m\u001b[1;33m\u001b[0m\u001b[0m\n\u001b[0m\u001b[0;32m     38\u001b[0m \u001b[0mconn\u001b[0m\u001b[1;33m.\u001b[0m\u001b[0mcommit\u001b[0m\u001b[1;33m(\u001b[0m\u001b[1;33m)\u001b[0m\u001b[1;33m\u001b[0m\u001b[1;33m\u001b[0m\u001b[0m\n\u001b[0;32m     39\u001b[0m \u001b[0mconn\u001b[0m\u001b[1;33m.\u001b[0m\u001b[0mclose\u001b[0m\u001b[1;33m(\u001b[0m\u001b[1;33m)\u001b[0m\u001b[1;33m\u001b[0m\u001b[1;33m\u001b[0m\u001b[0m\n",
      "\u001b[1;32m~\\Anaconda3\\lib\\site-packages\\pandas\\core\\series.py\u001b[0m in \u001b[0;36m__getitem__\u001b[1;34m(self, key)\u001b[0m\n\u001b[0;32m   1066\u001b[0m         \u001b[0mkey\u001b[0m \u001b[1;33m=\u001b[0m \u001b[0mcom\u001b[0m\u001b[1;33m.\u001b[0m\u001b[0mapply_if_callable\u001b[0m\u001b[1;33m(\u001b[0m\u001b[0mkey\u001b[0m\u001b[1;33m,\u001b[0m \u001b[0mself\u001b[0m\u001b[1;33m)\u001b[0m\u001b[1;33m\u001b[0m\u001b[1;33m\u001b[0m\u001b[0m\n\u001b[0;32m   1067\u001b[0m         \u001b[1;32mtry\u001b[0m\u001b[1;33m:\u001b[0m\u001b[1;33m\u001b[0m\u001b[1;33m\u001b[0m\u001b[0m\n\u001b[1;32m-> 1068\u001b[1;33m             \u001b[0mresult\u001b[0m \u001b[1;33m=\u001b[0m \u001b[0mself\u001b[0m\u001b[1;33m.\u001b[0m\u001b[0mindex\u001b[0m\u001b[1;33m.\u001b[0m\u001b[0mget_value\u001b[0m\u001b[1;33m(\u001b[0m\u001b[0mself\u001b[0m\u001b[1;33m,\u001b[0m \u001b[0mkey\u001b[0m\u001b[1;33m)\u001b[0m\u001b[1;33m\u001b[0m\u001b[1;33m\u001b[0m\u001b[0m\n\u001b[0m\u001b[0;32m   1069\u001b[0m \u001b[1;33m\u001b[0m\u001b[0m\n\u001b[0;32m   1070\u001b[0m             \u001b[1;32mif\u001b[0m \u001b[1;32mnot\u001b[0m \u001b[0mis_scalar\u001b[0m\u001b[1;33m(\u001b[0m\u001b[0mresult\u001b[0m\u001b[1;33m)\u001b[0m\u001b[1;33m:\u001b[0m\u001b[1;33m\u001b[0m\u001b[1;33m\u001b[0m\u001b[0m\n",
      "\u001b[1;32m~\\Anaconda3\\lib\\site-packages\\pandas\\core\\indexes\\base.py\u001b[0m in \u001b[0;36mget_value\u001b[1;34m(self, series, key)\u001b[0m\n\u001b[0;32m   4728\u001b[0m         \u001b[0mk\u001b[0m \u001b[1;33m=\u001b[0m \u001b[0mself\u001b[0m\u001b[1;33m.\u001b[0m\u001b[0m_convert_scalar_indexer\u001b[0m\u001b[1;33m(\u001b[0m\u001b[0mk\u001b[0m\u001b[1;33m,\u001b[0m \u001b[0mkind\u001b[0m\u001b[1;33m=\u001b[0m\u001b[1;34m\"getitem\"\u001b[0m\u001b[1;33m)\u001b[0m\u001b[1;33m\u001b[0m\u001b[1;33m\u001b[0m\u001b[0m\n\u001b[0;32m   4729\u001b[0m         \u001b[1;32mtry\u001b[0m\u001b[1;33m:\u001b[0m\u001b[1;33m\u001b[0m\u001b[1;33m\u001b[0m\u001b[0m\n\u001b[1;32m-> 4730\u001b[1;33m             \u001b[1;32mreturn\u001b[0m \u001b[0mself\u001b[0m\u001b[1;33m.\u001b[0m\u001b[0m_engine\u001b[0m\u001b[1;33m.\u001b[0m\u001b[0mget_value\u001b[0m\u001b[1;33m(\u001b[0m\u001b[0ms\u001b[0m\u001b[1;33m,\u001b[0m \u001b[0mk\u001b[0m\u001b[1;33m,\u001b[0m \u001b[0mtz\u001b[0m\u001b[1;33m=\u001b[0m\u001b[0mgetattr\u001b[0m\u001b[1;33m(\u001b[0m\u001b[0mseries\u001b[0m\u001b[1;33m.\u001b[0m\u001b[0mdtype\u001b[0m\u001b[1;33m,\u001b[0m \u001b[1;34m\"tz\"\u001b[0m\u001b[1;33m,\u001b[0m \u001b[1;32mNone\u001b[0m\u001b[1;33m)\u001b[0m\u001b[1;33m)\u001b[0m\u001b[1;33m\u001b[0m\u001b[1;33m\u001b[0m\u001b[0m\n\u001b[0m\u001b[0;32m   4731\u001b[0m         \u001b[1;32mexcept\u001b[0m \u001b[0mKeyError\u001b[0m \u001b[1;32mas\u001b[0m \u001b[0me1\u001b[0m\u001b[1;33m:\u001b[0m\u001b[1;33m\u001b[0m\u001b[1;33m\u001b[0m\u001b[0m\n\u001b[0;32m   4732\u001b[0m             \u001b[1;32mif\u001b[0m \u001b[0mlen\u001b[0m\u001b[1;33m(\u001b[0m\u001b[0mself\u001b[0m\u001b[1;33m)\u001b[0m \u001b[1;33m>\u001b[0m \u001b[1;36m0\u001b[0m \u001b[1;32mand\u001b[0m \u001b[1;33m(\u001b[0m\u001b[0mself\u001b[0m\u001b[1;33m.\u001b[0m\u001b[0mholds_integer\u001b[0m\u001b[1;33m(\u001b[0m\u001b[1;33m)\u001b[0m \u001b[1;32mor\u001b[0m \u001b[0mself\u001b[0m\u001b[1;33m.\u001b[0m\u001b[0mis_boolean\u001b[0m\u001b[1;33m(\u001b[0m\u001b[1;33m)\u001b[0m\u001b[1;33m)\u001b[0m\u001b[1;33m:\u001b[0m\u001b[1;33m\u001b[0m\u001b[1;33m\u001b[0m\u001b[0m\n",
      "\u001b[1;32mpandas\\_libs\\index.pyx\u001b[0m in \u001b[0;36mpandas._libs.index.IndexEngine.get_value\u001b[1;34m()\u001b[0m\n",
      "\u001b[1;32mpandas\\_libs\\index.pyx\u001b[0m in \u001b[0;36mpandas._libs.index.IndexEngine.get_value\u001b[1;34m()\u001b[0m\n",
      "\u001b[1;32mpandas\\_libs\\index.pyx\u001b[0m in \u001b[0;36mpandas._libs.index.IndexEngine.get_loc\u001b[1;34m()\u001b[0m\n",
      "\u001b[1;32mpandas\\_libs\\index_class_helper.pxi\u001b[0m in \u001b[0;36mpandas._libs.index.Int64Engine._check_type\u001b[1;34m()\u001b[0m\n",
      "\u001b[1;31mKeyError\u001b[0m: 'DB00001'"
     ]
    }
   ],
   "source": [
    "for i in url_id:\n",
    "    soup=download(basic_url,i,num_retries=150)\n",
    "    try:\n",
    "        d_iden=identification(soup)\n",
    "    except:\n",
    "        continue\n",
    "    try:\n",
    "        name=d_iden['Name']\n",
    "    except:\n",
    "        name=''\n",
    "    try:\n",
    "        smile=d_iden['SMILES']\n",
    "        if smile=='Not Available':\n",
    "            smile=''\n",
    "    except:\n",
    "        smile=''\n",
    "    interaction,event=interactions(i,name)\n",
    "\n",
    "    d_attr=head_attr(soup)\n",
    "    try:\n",
    "        target=d_attr['Targets']\n",
    "    except:\n",
    "        target=''\n",
    "    try:\n",
    "        enzyme=d_attr['Enzymes']\n",
    "    except:\n",
    "        enzyme=''\n",
    "    try:\n",
    "        carrier=d_attr['Carriers']\n",
    "    except:\n",
    "        carrier=''\n",
    "    try:\n",
    "        transporter=d_attr['Transporters']\n",
    "    except:\n",
    "        transporter=''\n",
    "    #Creat a table named drug first, so that you can use the insert sql code.\n",
    "    cur.execute(\"insert into drug(id,name,interaction,smile,target,enzyme,carrier,transporter)values(?,?,?,?,?,?,?,?)\",(drug[0][i],name,interaction,smile,target,enzyme,carrier,transporter))\n",
    "conn.commit()\n",
    "conn.close()"
   ]
  },
  {
   "cell_type": "code",
   "execution_count": null,
   "metadata": {},
   "outputs": [],
   "source": []
  }
 ],
 "metadata": {
  "kernelspec": {
   "display_name": "Python 3",
   "language": "python",
   "name": "python3"
  },
  "language_info": {
   "codemirror_mode": {
    "name": "ipython",
    "version": 3
   },
   "file_extension": ".py",
   "mimetype": "text/x-python",
   "name": "python",
   "nbconvert_exporter": "python",
   "pygments_lexer": "ipython3",
   "version": "3.7.4"
  }
 },
 "nbformat": 4,
 "nbformat_minor": 2
}
