{
 "cells": [
  {
   "cell_type": "code",
   "execution_count": null,
   "metadata": {},
   "outputs": [],
   "source": [
    "import untangle\n",
    "import pandas as pd\n",
    "import numpy as np\n",
    "import os"
   ]
  },
  {
   "cell_type": "code",
   "execution_count": null,
   "metadata": {},
   "outputs": [],
   "source": [
    "filename=\"full_database.xml\" \n",
    "obj=untangle.parse(filename)"
   ]
  },
  {
   "cell_type": "code",
   "execution_count": null,
   "metadata": {},
   "outputs": [],
   "source": [
    "i=-1\n",
    "for drug in obj.drugbank.drug:\n",
    "    drug_type= str(drug[\"type\"])\n",
    "    \n",
    "    if drug_type in [\"small molecule\", \"Small Molecule\", \"Small molecule\"]:\n",
    "        i=i+1    \n",
    "        \n",
    "        for id in drug.drugbank_id:\n",
    "            if str(id[\"primary\"])==\"true\":\n",
    "                df_drugbank_sm.loc[i, \"drugbank_id\"]=id.cdata\n",
    "        df_drugbank_sm.loc[i,\"name\"]=drug.name.cdata\n",
    "        \n",
    "        df_drugbank_sm.loc[i, \"cas\"]=drug.cas_number.cdata\n",
    "        df_drugbank_sm.loc[i, \"description\"]=drug.description.cdata\n",
    "        \n",
    "        \n",
    "        if len(drug.calculated_properties.cdata)==0: \n",
    "            continue\n",
    "        else:\n",
    "            for property in drug.calculated_properties.property:\n",
    "                if property.kind.cdata == \"SMILES\":\n",
    "                    df_drugbank_sm.loc[i, \"smiles\"]=property.value.cdata\n",
    "                    \n",
    "                if property.kind.cdata == \"logP\":\n",
    "                    if property.source.cdata == \"ALOGPS\":\n",
    "                        df_drugbank_sm.loc[i, \"logP ALOGPS\"]=property.value.cdata\n",
    "                    if property.source.cdata == \"ChemAxon\":\n",
    "                        df_drugbank_sm.loc[i, \"logP ChemAxon\"]=property.value.cdata\n",
    "                \n",
    "                if property.kind.cdata == \"Water Solubility\":\n",
    "                    df_drugbank_sm.loc[i, \"solubility ALOGPS\"]=property.value.cdata\n",
    "                \n",
    "                if property.kind.cdata == \"pKa (strongest acidic)\":\n",
    "                    df_drugbank_sm.loc[i, \"pKa (strongest acidic)\"]=property.value.cdata\n",
    "                \n",
    "                if property.kind.cdata == \"pKa (strongest basic)\":\n",
    "                    df_drugbank_sm.loc[i, \"pKa (strongest basic)\"]=property.value.cdata"
   ]
  },
  {
   "cell_type": "code",
   "execution_count": null,
   "metadata": {},
   "outputs": [],
   "source": [
    "df_drugbank_sm.head(10)\n",
    " \n",
    "print (df_drugbank_sm.shape)\n",
    "df_drugbank_smiles = df_drugbank_sm.dropna()\n",
    "df_drugbank_smiles= df_drugbank_smiles.reset_index(drop=True)\n",
    "print(df_drugbank_smiles.shape)\n",
    " \n",
    " \n",
    "df_drugbank_smiles.head()\n",
    "\n",
    "df_drugbank_smiles.to_csv(\"drugbank_smiles.csv\", encoding='utf-8',index=False)\n"
   ]
  }
 ],
 "metadata": {
  "kernelspec": {
   "display_name": "Python 3",
   "language": "python",
   "name": "python3"
  },
  "language_info": {
   "codemirror_mode": {
    "name": "ipython",
    "version": 3
   },
   "file_extension": ".py",
   "mimetype": "text/x-python",
   "name": "python",
   "nbconvert_exporter": "python",
   "pygments_lexer": "ipython3",
   "version": "3.7.4"
  }
 },
 "nbformat": 4,
 "nbformat_minor": 2
}
