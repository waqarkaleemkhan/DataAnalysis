{
 "cells": [
  {
   "cell_type": "code",
   "execution_count": 1,
   "metadata": {},
   "outputs": [],
   "source": [
    "import numpy as np\n",
    "import pandas as pd\n",
    "import torch\n",
    "from torch.utils import data\n",
    "import json\n",
    "\n",
    "from sklearn.preprocessing import OneHotEncoder\n",
    "\n",
    "from subword_nmt.apply_bpe import BPE\n",
    "import codecs"
   ]
  },
  {
   "cell_type": "code",
   "execution_count": null,
   "metadata": {},
   "outputs": [],
   "source": [
    "vocab_path = 'drug_codes_drug_bank_freq_100.txt'\n",
    "bpe_codes_drug = codecs.open(vocab_path)\n",
    "dbpe = BPE(bpe_codes_drug, merges=-1, separator='')\n",
    "sub_csv = pd.read_csv('subword_units_map_drug_bank_freq_100.csv')\n",
    "\n",
    "idx2word_d = sub_csv['index'].values\n",
    "words2idx_d = dict(zip(idx2word_d, range(0, len(idx2word_d))))\n"
   ]
  }
 ],
 "metadata": {
  "kernelspec": {
   "display_name": "Python 3",
   "language": "python",
   "name": "python3"
  },
  "language_info": {
   "codemirror_mode": {
    "name": "ipython",
    "version": 3
   },
   "file_extension": ".py",
   "mimetype": "text/x-python",
   "name": "python",
   "nbconvert_exporter": "python",
   "pygments_lexer": "ipython3",
   "version": "3.7.4"
  }
 },
 "nbformat": 4,
 "nbformat_minor": 2
}
