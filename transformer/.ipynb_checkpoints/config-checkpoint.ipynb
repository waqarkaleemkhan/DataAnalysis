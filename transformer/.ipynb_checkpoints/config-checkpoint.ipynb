{
 "cells": [
  {
   "cell_type": "code",
   "execution_count": 2,
   "metadata": {},
   "outputs": [],
   "source": [
    "def BIN_config_DBPE():\n",
    "    config = {}\n",
    "    config['batch_size'] = 16\n",
    "    config['input_dim_drug'] = 23532\n",
    "    config['input_dim_target'] = 16693\n",
    "    config['train_epoch'] = 13\n",
    "    config['max_drug_seq'] = 50\n",
    "    config['max_protein_seq'] = 545\n",
    "    config['emb_size'] = 384\n",
    "    config['dropout_rate'] = 0.1\n",
    "    \n",
    "    #DenseNet\n",
    "    config['scale_down_ratio'] = 0.25\n",
    "    config['growth_rate'] = 20\n",
    "    config['transition_rate'] = 0.5\n",
    "    config['num_dense_blocks'] = 4\n",
    "    config['kernal_dense_size'] = 3\n",
    "    \n",
    "    # Encoder\n",
    "    config['intermediate_size'] = 1536\n",
    "    config['num_attention_heads'] = 12\n",
    "    config['attention_probs_dropout_prob'] = 0.1\n",
    "    config['hidden_dropout_prob'] = 0.1\n",
    "    config['flat_dim'] = 78192\n",
    "    return config"
   ]
  },
  {
   "cell_type": "code",
   "execution_count": null,
   "metadata": {},
   "outputs": [],
   "source": []
  }
 ],
 "metadata": {
  "kernelspec": {
   "display_name": "Python 3",
   "language": "python",
   "name": "python3"
  },
  "language_info": {
   "codemirror_mode": {
    "name": "ipython",
    "version": 3
   },
   "file_extension": ".py",
   "mimetype": "text/x-python",
   "name": "python",
   "nbconvert_exporter": "python",
   "pygments_lexer": "ipython3",
   "version": "3.7.4"
  }
 },
 "nbformat": 4,
 "nbformat_minor": 2
}
