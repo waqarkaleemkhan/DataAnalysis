{
 "cells": [
  {
   "cell_type": "code",
   "execution_count": 9,
   "metadata": {},
   "outputs": [],
   "source": [
    "import numpy as np\n",
    "import pandas as pd\n",
    "import torch\n",
    "from torch.utils import data\n",
    "import json\n",
    "\n",
    "from sklearn.preprocessing import OneHotEncoder\n",
    "\n",
    "from subword_nmt.apply_bpe import BPE\n",
    "import codecs"
   ]
  },
  {
   "cell_type": "code",
   "execution_count": 10,
   "metadata": {},
   "outputs": [],
   "source": [
    "vocab_path = 'drug_codes_drug_bank_freq_100.txt'\n",
    "bpe_codes_drug = codecs.open(vocab_path)\n",
    "dbpe = BPE(bpe_codes_drug, merges=-1, separator='')\n",
    "sub_csv = pd.read_csv('subword_units_map_drug_bank_freq_100.csv')\n",
    "\n",
    "idx2word_d = sub_csv['index'].values\n",
    "words2idx_d = dict(zip(idx2word_d, range(0, len(idx2word_d))))\n"
   ]
  },
  {
   "cell_type": "code",
   "execution_count": 11,
   "metadata": {},
   "outputs": [],
   "source": [
    "max_d = 205\n",
    "max_p = 545\n"
   ]
  },
  {
   "cell_type": "code",
   "execution_count": 12,
   "metadata": {},
   "outputs": [],
   "source": [
    "def drug2emb_encoder(x):\n",
    "    max_d = 50\n",
    "    #max_d = 100\n",
    "    t1 = dbpe.process_line(x).split()  # split\n",
    "    try:\n",
    "        i1 = np.asarray([words2idx_d[i] for i in t1])  # index\n",
    "    except:\n",
    "        i1 = np.array([0])\n",
    "        #print(x)\n",
    "    \n",
    "    l = len(i1)\n",
    "\n",
    "    if l < max_d:\n",
    "        i = np.pad(i1, (0, max_d - l), 'constant', constant_values = 0)\n",
    "        input_mask = ([1] * l) + ([0] * (max_d - l))\n",
    "\n",
    "    else:\n",
    "        i = i1[:max_d]\n",
    "        input_mask = [1] * max_d\n",
    "\n",
    "    return i, np.asarray(input_mask)\n"
   ]
  },
  {
   "cell_type": "code",
   "execution_count": 13,
   "metadata": {},
   "outputs": [],
   "source": [
    "class BIN_Data_Encoder(data.Dataset):\n",
    "\n",
    "    def __init__(self, list_IDs, labels, df_dti):\n",
    "        'Initialization'\n",
    "        self.labels = labels\n",
    "        self.list_IDs = list_IDs\n",
    "        self.df = df_dti\n",
    "        \n",
    "    def __len__(self):\n",
    "        'Denotes the total number of samples'\n",
    "        return len(self.list_IDs)\n",
    "\n",
    "    def __getitem__(self, index):\n",
    "        'Generates one sample of data'\n",
    "        # Select sample\n",
    "        # Load data and get label\n",
    "        index = self.list_IDs[index]\n",
    "        #d = self.df.iloc[index]['DrugBank ID']\n",
    "        d = self.df.iloc[index]['SMILES']\n",
    "        p = self.df.iloc[index]['Target Sequence']\n",
    "        \n",
    "        #d_v = drug2single_vector(d)\n",
    "        d_v, input_mask_d = drug2emb_encoder(d)\n",
    "        \n",
    "        \n",
    "        print(d_v.shape)\n",
    "        print(input_mask_d.shape)\n",
    "        print(p_v.shape)\n",
    "        print(input_mask_p.shape)\n",
    "        y = self.labels[index]\n",
    "        return d_v, input_mask_d, y"
   ]
  },
  {
   "cell_type": "code",
   "execution_count": 14,
   "metadata": {},
   "outputs": [
    {
     "ename": "NameError",
     "evalue": "name 'lk' is not defined",
     "output_type": "error",
     "traceback": [
      "\u001b[1;31m---------------------------------------------------------------------------\u001b[0m",
      "\u001b[1;31mNameError\u001b[0m                                 Traceback (most recent call last)",
      "\u001b[1;32m<ipython-input-14-1cf0e3afe839>\u001b[0m in \u001b[0;36m<module>\u001b[1;34m\u001b[0m\n\u001b[1;32m----> 1\u001b[1;33m \u001b[0mlk\u001b[0m\u001b[1;33m;\u001b[0m\u001b[1;33m\u001b[0m\u001b[1;33m\u001b[0m\u001b[0m\n\u001b[0m",
      "\u001b[1;31mNameError\u001b[0m: name 'lk' is not defined"
     ]
    }
   ],
   "source": []
  },
  {
   "cell_type": "code",
   "execution_count": null,
   "metadata": {},
   "outputs": [],
   "source": []
  }
 ],
 "metadata": {
  "kernelspec": {
   "display_name": "Python 3",
   "language": "python",
   "name": "python3"
  },
  "language_info": {
   "codemirror_mode": {
    "name": "ipython",
    "version": 3
   },
   "file_extension": ".py",
   "mimetype": "text/x-python",
   "name": "python",
   "nbconvert_exporter": "python",
   "pygments_lexer": "ipython3",
   "version": "3.7.4"
  }
 },
 "nbformat": 4,
 "nbformat_minor": 2
}
